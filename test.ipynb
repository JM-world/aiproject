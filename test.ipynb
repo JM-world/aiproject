{
 "cells": [
  {
   "cell_type": "code",
   "execution_count": 11,
   "metadata": {},
   "outputs": [],
   "source": [
    "nums=[1,3,4,1,2,3,1]"
   ]
  },
  {
   "cell_type": "code",
   "execution_count": 12,
   "metadata": {},
   "outputs": [],
   "source": [
    "result = [[]]\n",
    "num =  0"
   ]
  },
  {
   "cell_type": "code",
   "execution_count": 13,
   "metadata": {},
   "outputs": [
    {
     "name": "stdout",
     "output_type": "stream",
     "text": [
      "[[1]] [[1]]\n",
      "[[1, 3], [1]] [[1, 3], [1]]\n",
      "[[1, 3, 4], [1], [3]] [[1, 3, 4], [1], [3]]\n",
      "[[1, 3, 4], [1], [3, 1], [4]] [[1, 3, 4], [1], [3, 1], [4]]\n",
      "[[1, 3, 4, 2], [1], [3, 1], [4], [1]] [[1, 3, 4, 2], [1], [3, 1], [4], [1]]\n",
      "[[1, 3, 4, 2], [1, 3], [3, 1], [4], [1], [2]] [[1, 3, 4, 2], [1, 3], [3, 1], [4], [1], [2]]\n",
      "[[1, 3, 4, 2], [1, 3], [3, 1], [4, 1], [1], [2], [3]] [[1, 3, 4, 2], [1, 3], [3, 1], [4, 1], [1], [2], [3]]\n"
     ]
    }
   ],
   "source": [
    "for i in nums:\n",
    "    copy_result = result[:]\n",
    "    for k in range(len(result)):\n",
    "        if i not in result[k]:\n",
    "            result[k].append(i)\n",
    "            print(copy_result, result)\n",
    "            break\n",
    "        else:\n",
    "            continue\n",
    "    if result == copy_result:\n",
    "        result.append([i])"
   ]
  },
  {
   "cell_type": "code",
   "execution_count": null,
   "metadata": {},
   "outputs": [],
   "source": []
  }
 ],
 "metadata": {
  "kernelspec": {
   "display_name": "Python 3",
   "language": "python",
   "name": "python3"
  },
  "language_info": {
   "codemirror_mode": {
    "name": "ipython",
    "version": 3
   },
   "file_extension": ".py",
   "mimetype": "text/x-python",
   "name": "python",
   "nbconvert_exporter": "python",
   "pygments_lexer": "ipython3",
   "version": "3.11.7"
  }
 },
 "nbformat": 4,
 "nbformat_minor": 2
}
